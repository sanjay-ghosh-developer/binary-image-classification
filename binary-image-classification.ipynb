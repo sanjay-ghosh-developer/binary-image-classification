{
 "cells": [
  {
   "cell_type": "code",
   "execution_count": 247,
   "metadata": {},
   "outputs": [],
   "source": [
    "#Importing necessary \n",
    "from sklearn import datasets\n",
    "import matplotlib\n",
    "import matplotlib.pyplot as plt\n",
    "import numpy as np\n",
    "from sklearn.linear_model import SGDClassifier\n",
    "from sklearn.model_selection import cross_val_score\n",
    "from sklearn.model_selection import cross_val_predict\n",
    "from sklearn.metrics import confusion_matrix , ConfusionMatrixDisplay ,classification_report\n",
    "from sklearn.model_selection import train_test_split\n",
    "from sklearn.metrics import roc_curve, auc\n",
    "from sklearn.metrics import roc_auc_score"
   ]
  },
  {
   "cell_type": "code",
   "execution_count": 248,
   "metadata": {},
   "outputs": [],
   "source": [
    "#Load dataset\n",
    "mnist = datasets.load_digits()"
   ]
  },
  {
   "cell_type": "code",
   "execution_count": 249,
   "metadata": {},
   "outputs": [
    {
     "data": {
      "text/plain": [
       "((1797, 64), (1797,))"
      ]
     },
     "execution_count": 249,
     "metadata": {},
     "output_type": "execute_result"
    }
   ],
   "source": [
    "#Getting shape of dataset\n",
    "X=mnist['data']\n",
    "y=mnist['target']\n",
    "X.shape,y.shape"
   ]
  },
  {
   "cell_type": "code",
   "execution_count": 250,
   "metadata": {},
   "outputs": [
    {
     "data": {
      "image/png": "[encoded data removed]",
      "text/plain": [
       "<Figure size 432x288 with 1 Axes>"
      ]
     },
     "metadata": {
      "needs_background": "light"
     },
     "output_type": "display_data"
    },
    {
     "data": {
      "text/plain": [
       "(None, 4)"
      ]
     },
     "execution_count": 250,
     "metadata": {},
     "output_type": "execute_result"
    }
   ],
   "source": [
    "#Display digits\n",
    "some_digit = X[900] \n",
    "some_digit_image = some_digit.reshape(8, 8)\n",
    "\n",
    "plt.imshow(some_digit_image, cmap = matplotlib.cm.binary, interpolation = \"nearest\")\n",
    "plt.axis(\"on\")\n",
    "plt.show(),y[900]"
   ]
  },
  {
   "cell_type": "code",
   "execution_count": 251,
   "metadata": {},
   "outputs": [],
   "source": [
    "#Split detaset into train-dataset and test-dataset\n",
    "X_train, X_test, y_train, y_test = train_test_split(X, y, test_size=0.33, random_state=42)"
   ]
  },
  {
   "cell_type": "code",
   "execution_count": 252,
   "metadata": {},
   "outputs": [
    {
     "data": {
      "text/plain": [
       "((1203, 64), (594, 64))"
      ]
     },
     "execution_count": 252,
     "metadata": {},
     "output_type": "execute_result"
    }
   ],
   "source": [
    "#size of train and test\n",
    "X_train.shape,X_test.shape"
   ]
  },
  {
   "cell_type": "code",
   "execution_count": 253,
   "metadata": {},
   "outputs": [],
   "source": [
    "#Data preprocessing\n",
    "#True for all 7s, False for all other digits\n",
    "y_train_7 = (y_train == 7)\n",
    "y_test_7 = (y_test == 7)"
   ]
  },
  {
   "cell_type": "code",
   "execution_count": 254,
   "metadata": {},
   "outputs": [
    {
     "data": {
      "text/plain": [
       "array([False, False, False, ..., False,  True, False])"
      ]
     },
     "execution_count": 254,
     "metadata": {},
     "output_type": "execute_result"
    }
   ],
   "source": [
    "y_train_7==True"
   ]
  },
  {
   "cell_type": "code",
   "execution_count": 255,
   "metadata": {},
   "outputs": [
    {
     "data": {
      "text/plain": [
       "SGDClassifier(alpha=0.0001, average=False, class_weight=None,\n",
       "              early_stopping=False, epsilon=0.1, eta0=0.0, fit_intercept=True,\n",
       "              l1_ratio=0.15, learning_rate='optimal', loss='hinge',\n",
       "              max_iter=1000, n_iter_no_change=5, n_jobs=None, penalty='l2',\n",
       "              power_t=0.5, random_state=42, shuffle=True, tol=0.001,\n",
       "              validation_fraction=0.1, verbose=0, warm_start=False)"
      ]
     },
     "execution_count": 255,
     "metadata": {},
     "output_type": "execute_result"
    }
   ],
   "source": [
    "sgd_clf = SGDClassifier(random_state=42)\n",
    "sgd_clf.fit(X_train, y_train_7)"
   ]
  },
  {
   "cell_type": "code",
   "execution_count": 256,
   "metadata": {},
   "outputs": [
    {
     "data": {
      "image/png": "[encoded data removed]",
      "text/plain": [
       "<Figure size 432x288 with 1 Axes>"
      ]
     },
     "metadata": {
      "needs_background": "light"
     },
     "output_type": "display_data"
    },
    {
     "data": {
      "text/plain": [
       "(None, array([ True]), 7)"
      ]
     },
     "execution_count": 256,
     "metadata": {},
     "output_type": "execute_result"
    }
   ],
   "source": [
    "#Display predicted digit\n",
    "some_digit_image = X_test[3].reshape(8,8)\n",
    "\n",
    "plt.imshow(some_digit_image, cmap = matplotlib.cm.binary, interpolation = \"nearest\")\n",
    "plt.axis(\"on\")\n",
    "plt.show(),sgd_clf.predict([X_test[3]]),y_test[3]"
   ]
  },
  {
   "cell_type": "code",
   "execution_count": 257,
   "metadata": {},
   "outputs": [
    {
     "data": {
      "text/plain": [
       "array([False,  True])"
      ]
     },
     "execution_count": 257,
     "metadata": {},
     "output_type": "execute_result"
    }
   ],
   "source": [
    "#classes in the model, True denotes 'is 7' and False denotes 'not 7'\n",
    "sgd_clf.classes_"
   ]
  },
  {
   "cell_type": "code",
   "execution_count": 258,
   "metadata": {},
   "outputs": [
    {
     "data": {
      "text/plain": [
       "<sklearn.metrics._plot.confusion_matrix.ConfusionMatrixDisplay at 0x7fc29358d820>"
      ]
     },
     "execution_count": 258,
     "metadata": {},
     "output_type": "execute_result"
    },
    {
     "data": {
      "image/png": "[encoded data removed]",
      "text/plain": [
       "<Figure size 432x288 with 2 Axes>"
      ]
     },
     "metadata": {
      "needs_background": "light"
     },
     "output_type": "display_data"
    }
   ],
   "source": [
    "#calculate confusion_matrix\n",
    "y_train_pred = cross_val_predict(sgd_clf, X_train, y_train_7, cv = 3)\n",
    "cm=confusion_matrix(y_train_7, y_train_pred)\n",
    "disp = ConfusionMatrixDisplay(confusion_matrix=cm, display_labels=sgd_clf.classes_)\n",
    "disp.plot(values_format='d')"
   ]
  },
  {
   "cell_type": "code",
   "execution_count": 259,
   "metadata": {},
   "outputs": [
    {
     "name": "stdout",
     "output_type": "stream",
     "text": [
      "              precision    recall  f1-score   support\n",
      "\n",
      "       False       0.99      1.00      0.99      1086\n",
      "        True       0.96      0.95      0.95       117\n",
      "\n",
      "    accuracy                           0.99      1203\n",
      "   macro avg       0.98      0.97      0.97      1203\n",
      "weighted avg       0.99      0.99      0.99      1203\n",
      "\n"
     ]
    }
   ],
   "source": [
    "#calculate precision, recall, f1_score\n",
    "print(classification_report(y_train_7, y_train_pred, labels=sgd_clf.classes_))"
   ]
  },
  {
   "cell_type": "code",
   "execution_count": 260,
   "metadata": {},
   "outputs": [
    {
     "data": {
      "image/png": "[encoded data removed]",
      "text/plain": [
       "<Figure size 432x288 with 1 Axes>"
      ]
     },
     "metadata": {
      "needs_background": "light"
     },
     "output_type": "display_data"
    }
   ],
   "source": [
    "# ROC curve \n",
    "# Sensitivity or True Positive Rate or Recall or TPR = TP/(TP+FN)\n",
    "# FPR or False Positive Rate = FP/(TN+FP)\n",
    "# Here we get AUC = 0.99 so we can state then the classifier is able to almost perfectly distinguish between all the Positive and the Negative class points correctly.\n",
    "score_roc = sgd_clf.decision_function(X_test)\n",
    "fpr, tpr, thresholds = roc_curve(y_test_7, score_roc)\n",
    "roc_auc = auc(fpr, tpr)\n",
    "plt.title('Receiver Operating Characteristic (ROC)')\n",
    "plt.plot(fpr, tpr, 'b', label='AUC = %0.4f' % roc_auc)\n",
    "plt.legend(loc='lower right')\n",
    "plt.ylabel('True Positive Rate')\n",
    "plt.xlabel('False Positive Rate')\n",
    "plt.show()"
   ]
  },
  {
   "cell_type": "code",
   "execution_count": 261,
   "metadata": {},
   "outputs": [
    {
     "data": {
      "image/png": "[encoded data removed]",
      "text/plain": [
       "<Figure size 1440x1440 with 196 Axes>"
      ]
     },
     "metadata": {},
     "output_type": "display_data"
    }
   ],
   "source": [
    "#Visualize predicted data\n",
    "def plot_result(X_test,y_test,size):\n",
    "    X_test#test dataset\n",
    "\n",
    "    pred_result=sgd_clf.predict(X_test)#making pretictions\n",
    "\n",
    "    is_7_idx=np.where(pred_result)[0]#filter mask for images predected as 7\n",
    "    not_7_idx=np.where(~pred_result)[0]#filter mask for images predected not as 7\n",
    "\n",
    "    fig11 = plt.figure(figsize=(20, 20), constrained_layout=False)\n",
    "    outer_grid = fig11.add_gridspec(4, 4, wspace=0, hspace=0)#Create outer grid\n",
    "    inx1=1\n",
    "    inx2=1\n",
    "    # gridspec inside gridspec\n",
    "    inner_grid = outer_grid[0, 0].subgridspec(size[0],size[1], wspace=0, hspace=0)\n",
    "    axs = inner_grid.subplots()  # Create all subplots for the inner grid.\n",
    "    for (c, d), ax in np.ndenumerate(axs):\n",
    "        ax.imshow(X_test[is_7_idx][inx1].reshape(8,8), cmap = matplotlib.cm.binary, interpolation = \"nearest\")\n",
    "        inx1=inx1+1\n",
    "        ax.set(xticks=[], yticks=[])\n",
    "    # gridspec inside gridspec\n",
    "    inner_grid = outer_grid[0, 1].subgridspec(size[0],size[1], wspace=0, hspace=0)\n",
    "    axs = inner_grid.subplots()  # Create all subplots for the inner grid.\n",
    "    for (c, d), ax in np.ndenumerate(axs):\n",
    "        ax.text(0.5, 0.5,y_test[is_7_idx][inx2])\n",
    "        inx2=inx2+1\n",
    "        ax.set(xticks=[], yticks=[])\n",
    "    inner_grid = outer_grid[1, 0].subgridspec(size[0],size[1], wspace=0, hspace=0)\n",
    "    axs = inner_grid.subplots()  # Create all subplots for the inner grid.\n",
    "    for (c, d), ax in np.ndenumerate(axs):\n",
    "        ax.imshow(X_test[not_7_idx][inx1].reshape(8,8), cmap = matplotlib.cm.binary, interpolation = \"nearest\")\n",
    "        inx1=inx1+1\n",
    "        ax.set(xticks=[], yticks=[])\n",
    "    # gridspec inside gridspec\n",
    "    inner_grid = outer_grid[1, 1].subgridspec(size[0],size[1], wspace=0, hspace=0)\n",
    "    axs = inner_grid.subplots()  # Create all subplots for the inner grid.\n",
    "    for (c, d), ax in np.ndenumerate(axs):\n",
    "        ax.text(.3, .3,y_test[not_7_idx][inx2])\n",
    "        inx2=inx2+1\n",
    "        ax.set(xticks=[], yticks=[])\n",
    "\n",
    "    # show only the outside spines\n",
    "    for ax in fig11.get_axes():\n",
    "        ss = ax.get_subplotspec()\n",
    "        ax.spines.top.set_visible(ss.is_first_row())\n",
    "        ax.spines.bottom.set_visible(ss.is_last_row())\n",
    "        ax.spines.left.set_visible(ss.is_first_col())\n",
    "        ax.spines.right.set_visible(ss.is_last_col())\n",
    "\n",
    "    plt.show()\n",
    "plot_result(X_test,y_test,size=(7,7))"
   ]
  },
  {
   "cell_type": "code",
   "execution_count": null,
   "metadata": {},
   "outputs": [],
   "source": []
  }
 ],
 "metadata": {
  "kernelspec": {
   "display_name": "Python 3",
   "language": "python",
   "name": "python3"
  },
  "language_info": {
   "codemirror_mode": {
    "name": "ipython",
    "version": 3
   },
   "file_extension": ".py",
   "mimetype": "text/x-python",
   "name": "python",
   "nbconvert_exporter": "python",
   "pygments_lexer": "ipython3",
   "version": "3.8.5"
  }
 },
 "nbformat": 4,
 "nbformat_minor": 4
}
